{
 "cells": [
  {
   "cell_type": "markdown",
   "metadata": {},
   "source": [
    "Importing modules"
   ]
  },
  {
   "cell_type": "code",
   "execution_count": 2,
   "metadata": {},
   "outputs": [],
   "source": [
    "import pandas as pd\n",
    "import numpy as np\n",
    "from tqdm.notebook import tqdm\n",
    "from keras.preprocessing.image import img_to_array, load_img\n",
    "import tensorflow as tf\n",
    "import matplotlib.pyplot as plt\n",
    "%matplotlib inline\n",
    "import warnings\n",
    "\n",
    "warnings.filterwarnings(\"ignore\")"
   ]
  },
  {
   "cell_type": "code",
   "execution_count": 3,
   "metadata": {},
   "outputs": [
    {
     "name": "stdout",
     "output_type": "stream",
     "text": [
      "^C\n"
     ]
    }
   ],
   "source": [
    "!unzip Train_UQcUa52.zip\n"
   ]
  },
  {
   "cell_type": "code",
   "execution_count": 4,
   "metadata": {},
   "outputs": [
    {
     "data": {
      "text/html": [
       "<div>\n",
       "<style scoped>\n",
       "    .dataframe tbody tr th:only-of-type {\n",
       "        vertical-align: middle;\n",
       "    }\n",
       "\n",
       "    .dataframe tbody tr th {\n",
       "        vertical-align: top;\n",
       "    }\n",
       "\n",
       "    .dataframe thead th {\n",
       "        text-align: right;\n",
       "    }\n",
       "</style>\n",
       "<table border=\"1\" class=\"dataframe\">\n",
       "  <thead>\n",
       "    <tr style=\"text-align: right;\">\n",
       "      <th></th>\n",
       "      <th>filename</th>\n",
       "      <th>label</th>\n",
       "    </tr>\n",
       "  </thead>\n",
       "  <tbody>\n",
       "    <tr>\n",
       "      <th>0</th>\n",
       "      <td>0.png</td>\n",
       "      <td>4</td>\n",
       "    </tr>\n",
       "    <tr>\n",
       "      <th>1</th>\n",
       "      <td>1.png</td>\n",
       "      <td>9</td>\n",
       "    </tr>\n",
       "    <tr>\n",
       "      <th>2</th>\n",
       "      <td>2.png</td>\n",
       "      <td>1</td>\n",
       "    </tr>\n",
       "    <tr>\n",
       "      <th>3</th>\n",
       "      <td>3.png</td>\n",
       "      <td>7</td>\n",
       "    </tr>\n",
       "    <tr>\n",
       "      <th>4</th>\n",
       "      <td>4.png</td>\n",
       "      <td>3</td>\n",
       "    </tr>\n",
       "  </tbody>\n",
       "</table>\n",
       "</div>"
      ],
      "text/plain": [
       "  filename  label\n",
       "0    0.png      4\n",
       "1    1.png      9\n",
       "2    2.png      1\n",
       "3    3.png      7\n",
       "4    4.png      3"
      ]
     },
     "execution_count": 4,
     "metadata": {},
     "output_type": "execute_result"
    }
   ],
   "source": [
    "df =pd.read_csv('train.csv')\n",
    "df.head()\n"
   ]
  },
  {
   "cell_type": "code",
   "execution_count": 5,
   "metadata": {},
   "outputs": [],
   "source": [
    "image_path= 'Images/train/'"
   ]
  },
  {
   "cell_type": "code",
   "execution_count": 188,
   "metadata": {},
   "outputs": [
    {
     "data": {
      "application/vnd.jupyter.widget-view+json": {
       "model_id": "cf05217734684d6db693a3b8e828065a",
       "version_major": 2,
       "version_minor": 0
      },
      "text/plain": [
       "  0%|          | 0/49000 [00:00<?, ?it/s]"
      ]
     },
     "metadata": {},
     "output_type": "display_data"
    }
   ],
   "source": [
    "X = np.array([img_to_array(load_img(image_path+df['filename'][i], target_size=(\n",
    "    28, 28, 1), color_mode='grayscale')) for i in tqdm(range(df.shape[0]))]).astype('float32')\n"
   ]
  },
  {
   "cell_type": "code",
   "execution_count": 189,
   "metadata": {},
   "outputs": [],
   "source": [
    "y=df['label']"
   ]
  },
  {
   "cell_type": "code",
   "execution_count": 190,
   "metadata": {},
   "outputs": [
    {
     "name": "stdout",
     "output_type": "stream",
     "text": [
      "(49000, 28, 28, 1) (49000,)\n"
     ]
    }
   ],
   "source": [
    "print(X.shape,y.shape)"
   ]
  },
  {
   "cell_type": "code",
   "execution_count": 191,
   "metadata": {},
   "outputs": [
    {
     "name": "stdout",
     "output_type": "stream",
     "text": [
      "4\n"
     ]
    },
    {
     "data": {
      "text/plain": [
       "<matplotlib.image.AxesImage at 0x1a2c73c1d60>"
      ]
     },
     "execution_count": 191,
     "metadata": {},
     "output_type": "execute_result"
    },
    {
     "data": {
      "image/png": "[encoded data removed]",
      "text/plain": [
       "<Figure size 432x288 with 1 Axes>"
      ]
     },
     "metadata": {
      "needs_background": "light"
     },
     "output_type": "display_data"
    }
   ],
   "source": [
    "image_index = 0\n",
    "print(y[image_index])\n",
    "plt.imshow(X[image_index].reshape(28, 28),cmap='Greys')"
   ]
  },
  {
   "cell_type": "code",
   "execution_count": 202,
   "metadata": {},
   "outputs": [
    {
     "name": "stdout",
     "output_type": "stream",
     "text": [
      "7\n"
     ]
    },
    {
     "data": {
      "text/plain": [
       "<matplotlib.image.AxesImage at 0x1a2bfbcba60>"
      ]
     },
     "execution_count": 202,
     "metadata": {},
     "output_type": "execute_result"
    },
    {
     "data": {
      "image/png": "[encoded data removed]",
      "text/plain": [
       "<Figure size 432x288 with 1 Axes>"
      ]
     },
     "metadata": {
      "needs_background": "light"
     },
     "output_type": "display_data"
    }
   ],
   "source": [
    "image_index = 100\n",
    "print(y[image_index])\n",
    "plt.imshow(X[image_index].reshape(28, 28),cmap='Greys')"
   ]
  },
  {
   "cell_type": "markdown",
   "metadata": {},
   "source": [
    "Train-Test split"
   ]
  },
  {
   "cell_type": "code",
   "execution_count": 201,
   "metadata": {},
   "outputs": [],
   "source": [
    "from sklearn.model_selection import train_test_split\n",
    "x_train, x_test, y_train, y_test = train_test_split(X, y, test_size=0.25, random_state=42,stratify=np.array(y))"
   ]
  },
  {
   "cell_type": "markdown",
   "metadata": {},
   "source": [
    "Normalization"
   ]
  },
  {
   "cell_type": "code",
   "execution_count": 203,
   "metadata": {},
   "outputs": [],
   "source": [
    "x_train /=255\n",
    "x_test /=255\n",
    "\n",
    "input_shape = (28, 28, 1)\n",
    "output_classes = 10"
   ]
  },
  {
   "cell_type": "code",
   "execution_count": 244,
   "metadata": {},
   "outputs": [],
   "source": [
    "from keras.models import Sequential\n",
    "from keras.layers import Dense, Flatten, MaxPooling2D, Conv2D\n",
    "from sklearn.model_selection import KFold\n",
    "\n",
    "\n",
    "def sequential_model(input_shape):\n",
    "    model = Sequential()\n",
    "    model.add(Conv2D(32, kernel_size=(3, 3),\n",
    "              activation='relu', input_shape=input_shape))\n",
    "    model.add(MaxPooling2D(pool_size=(2, 2)))\n",
    "    model.add(Conv2D(64, (3, 3), activation='relu'))\n",
    "    model.add(MaxPooling2D(pool_size=(2, 2)))\n",
    "    model.add(Conv2D(64, (3, 3), activation='relu'))\n",
    "    model.add(Flatten())\n",
    "    model.add(Dense(64, activation='relu'))\n",
    "    model.add(Dense(output_classes, activation='softmax'))\n",
    "    # model.add(Dropout(0.3))\n",
    "\n",
    "    model.compile(optimizer='rmsprop',\n",
    "                  loss='sparse_categorical_crossentropy', metrics=['accuracy'])\n",
    "    \n",
    "    return model"
   ]
  },
  {
   "cell_type": "markdown",
   "metadata": {},
   "source": [
    "Model Creation"
   ]
  },
  {
   "cell_type": "code",
   "execution_count": 248,
   "metadata": {},
   "outputs": [
    {
     "name": "stdout",
     "output_type": "stream",
     "text": [
      "================================================================================\n",
      "Fold-1\n",
      "--------------------------------------------------------------------------------\n",
      "Training & Validation\n",
      "Epoch 1/5\n",
      "613/613 [==============================] - 18s 28ms/step - loss: 0.2204 - accuracy: 0.9332 - val_loss: 0.0759 - val_accuracy: 0.9752\n",
      "Epoch 2/5\n",
      "613/613 [==============================] - 19s 32ms/step - loss: 0.0603 - accuracy: 0.9809 - val_loss: 0.0581 - val_accuracy: 0.9811\n",
      "Epoch 3/5\n",
      "612/613 [============================>.] - ETA: 0s - loss: 0.0427 - accuracy: 0.9866"
     ]
    }
   ],
   "source": [
    "from keras.models import Sequential\n",
    "from keras.layers import Dense, Flatten, MaxPooling2D, Conv2D\n",
    "from sklearn.model_selection import KFold\n",
    "\n",
    "cross_val=KFold(n_splits=5,shuffle=True,random_state=42)\n",
    "fold_count=1\n",
    "\n",
    "history_list=[]\n",
    "eval_scores=[]\n",
    "\n",
    "\n",
    "\n",
    "for train, validation in cross_val.split(X):\n",
    "    print(\"=\"*80)\n",
    "    print(\"Fold-{}\".format(fold_count))\n",
    "    print(\"-\"*80)\n",
    "    print(\"Training & Validation\")\n",
    "    fold_count = fold_count + 1\n",
    "    model = sequential_model(input_shape)\n",
    "    \n",
    "    X_train, Y_train = X[train]/255, y[train]\n",
    "    X_val, y_val = X[validation]/255, y[validation]\n",
    "    \n",
    "    history = model.fit(X_train, Y_train,\n",
    "                        epochs=5,\n",
    "                        validation_data=(X_val, y_val),\n",
    "                        batch_size=64)\n",
    "    \n",
    "    print(\"-\"*80)\n",
    "    print(\"Testing/evaluation\")\n",
    "    eval_loss, eval_accuracy = model.evaluate(X_val, y_val)\n",
    "    \n",
    "    history_list.append(history)\n",
    "    eval_scores.append(eval_accuracy)\n",
    "\n",
    "    print(\"_\"*80)\n",
    "    \n",
    "    # fold += 1\n",
    "    # model.fit(inputs[train],targets[test], epochs=5, batch_size=64,\n",
    "    #           validation_data=(inputs[test], targets[train]))\n",
    "\n",
    "    # scores = model.evaluate(inputs[test], targets[test], verbose=0)\n",
    "    # print(f'Score for fold {fold}: {model.metrics_names[0]} of {scores[0]}; {model.metrics_names[1]} of {scores[1]*100}%')\n",
    "    # acc_per_fold.append(scores[1] * 100)\n",
    "    # loss_per_fold.append(scores[0])\n",
    "\n",
    "#     pred = model.predict(x_test)\n",
    "\n",
    "#     oos_y.append(y_test)\n",
    "#     pred=pred\n",
    "#     oos_pred.append(pred)\n",
    "\n",
    "#     y_compare=y_test\n",
    "#     score = metrics.accuracy_score(y_compare, pred) \n",
    "#     print(\"Fold score (accuracy): {}\".format(score))\n",
    "# # model.summary()\n",
    "\n",
    "# oos_y = np.concatenate(oos_y)\n",
    "# oos_pred = np.concatenate(oos_pred)\n",
    "# oos_y_compare=oos_y\n",
    "\n",
    "# score=metrics.accuracy_score(oos_y_compare, oos_pred)\n",
    "# print(\"Final score (accuracy): {}\".format(score))\n"
   ]
  },
  {
   "cell_type": "markdown",
   "metadata": {},
   "source": [
    "Training the model"
   ]
  },
  {
   "cell_type": "code",
   "execution_count": 173,
   "metadata": {},
   "outputs": [
    {
     "name": "stdout",
     "output_type": "stream",
     "text": [
      "Epoch 1/5\n",
      "575/575 [==============================] - 13s 23ms/step - loss: 0.2497 - accuracy: 0.9227 - val_loss: 0.1788 - val_accuracy: 0.9379\n",
      "Epoch 2/5\n",
      "575/575 [==============================] - 12s 21ms/step - loss: 0.0635 - accuracy: 0.9798 - val_loss: 0.0521 - val_accuracy: 0.9847\n",
      "Epoch 3/5\n",
      "575/575 [==============================] - 12s 22ms/step - loss: 0.0420 - accuracy: 0.9867 - val_loss: 0.0497 - val_accuracy: 0.9843\n",
      "Epoch 4/5\n",
      "575/575 [==============================] - 12s 21ms/step - loss: 0.0314 - accuracy: 0.9904 - val_loss: 0.0521 - val_accuracy: 0.9851\n",
      "Epoch 5/5\n",
      "575/575 [==============================] - 12s 21ms/step - loss: 0.0249 - accuracy: 0.9920 - val_loss: 0.0445 - val_accuracy: 0.9887\n"
     ]
    },
    {
     "data": {
      "text/plain": [
       "<keras.callbacks.History at 0x1a2c42e3160>"
      ]
     },
     "execution_count": 173,
     "metadata": {},
     "output_type": "execute_result"
    }
   ],
   "source": [
    "\n",
    "# model.fit(x=x_train,y=y_train, epochs=5,batch_size=64,validation_data=(x_test, y_test))"
   ]
  },
  {
   "cell_type": "code",
   "execution_count": 227,
   "metadata": {},
   "outputs": [
    {
     "ename": "AttributeError",
     "evalue": "'list' object has no attribute 'history'",
     "output_type": "error",
     "traceback": [
      "\u001b[1;31m---------------------------------------------------------------------------\u001b[0m",
      "\u001b[1;31mAttributeError\u001b[0m                            Traceback (most recent call last)",
      "\u001b[1;32md:\\Python\\Machine Learning Project\\102017173_102017167_cs7.ipynb Cell 20\u001b[0m in \u001b[0;36m<cell line: 3>\u001b[1;34m()\u001b[0m\n\u001b[0;32m      <a href='vscode-notebook-cell:/d%3A/Python/Machine%20Learning%20Project/102017173_102017167_cs7.ipynb#X32sZmlsZQ%3D%3D?line=0'>1</a>\u001b[0m \u001b[39mimport\u001b[39;00m \u001b[39mmatplotlib\u001b[39;00m\u001b[39m.\u001b[39;00m\u001b[39mpyplot\u001b[39;00m \u001b[39mas\u001b[39;00m \u001b[39mplt\u001b[39;00m\n\u001b[1;32m----> <a href='vscode-notebook-cell:/d%3A/Python/Machine%20Learning%20Project/102017173_102017167_cs7.ipynb#X32sZmlsZQ%3D%3D?line=2'>3</a>\u001b[0m accuracy\u001b[39m=\u001b[39mhistory_list\u001b[39m.\u001b[39;49mhistory[\u001b[39m'\u001b[39m\u001b[39maccuracy\u001b[39m\u001b[39m'\u001b[39m]\n\u001b[0;32m      <a href='vscode-notebook-cell:/d%3A/Python/Machine%20Learning%20Project/102017173_102017167_cs7.ipynb#X32sZmlsZQ%3D%3D?line=3'>4</a>\u001b[0m loss\u001b[39m=\u001b[39mhistory_list\u001b[39m.\u001b[39mhistory[\u001b[39m'\u001b[39m\u001b[39mloss\u001b[39m\u001b[39m'\u001b[39m]\n\u001b[0;32m      <a href='vscode-notebook-cell:/d%3A/Python/Machine%20Learning%20Project/102017173_102017167_cs7.ipynb#X32sZmlsZQ%3D%3D?line=5'>6</a>\u001b[0m epochs\u001b[39m=\u001b[39m\u001b[39mrange\u001b[39m(\u001b[39mlen\u001b[39m(accuracy))\n",
      "\u001b[1;31mAttributeError\u001b[0m: 'list' object has no attribute 'history'"
     ]
    }
   ],
   "source": [
    "# import matplotlib.pyplot as plt\n",
    "\n",
    "# accuracy=history_list.history['accuracy']\n",
    "# loss=history_list.history['loss']\n",
    "\n",
    "# epochs=range(len(accuracy))\n",
    "\n",
    "# plt.plot(epochs,accuracy,'r')\n",
    "# plt.plot(epochs,loss,'b')\n",
    "# plt.show()"
   ]
  },
  {
   "cell_type": "markdown",
   "metadata": {},
   "source": [
    "Testing\n"
   ]
  },
  {
   "cell_type": "code",
   "execution_count": 231,
   "metadata": {},
   "outputs": [
    {
     "name": "stdout",
     "output_type": "stream",
     "text": [
      "Predicted output: 2\n"
     ]
    },
    {
     "data": {
      "image/png": "[encoded data removed]",
      "text/plain": [
       "<Figure size 432x288 with 1 Axes>"
      ]
     },
     "metadata": {
      "needs_background": "light"
     },
     "output_type": "display_data"
    }
   ],
   "source": [
    "image_index=50\n",
    "# print(\"Original output:\",y_test[image_index])\n",
    "plt.imshow(X_train[image_index].reshape(28, 28),cmap='Greys')\n",
    "pred = model.predict(X_train[image_index].reshape(1, 28, 28, 1))\n",
    "print(\"Predicted output:\",pred.argmax())"
   ]
  },
  {
   "cell_type": "markdown",
   "metadata": {},
   "source": [
    "ACCURACY"
   ]
  },
  {
   "cell_type": "code",
   "execution_count": 247,
   "metadata": {},
   "outputs": [
    {
     "name": "stdout",
     "output_type": "stream",
     "text": [
      "307/307 [==============================] - 1s 4ms/step - loss: 0.0348 - accuracy: 0.9890\n",
      "Test loss: 0.034799449145793915\n",
      "Test accuracy: 0.9889795780181885\n",
      "Average accuracy 0.9875510215759278\n",
      "best accuracy 0.9889795780181885\n"
     ]
    }
   ],
   "source": [
    "score=model.evaluate(X_val,y_val)\n",
    "print('Test loss:',score[0])\n",
    "print('Test accuracy:',score[1])\n",
    "average=sum(eval_scores)/len(eval_scores)\n",
    "print(\"Average accuracy\",average)\n",
    "# index=eval_scores.index(max(eval_scores))\n",
    "print(\"best accuracy\",max(eval_scores))"
   ]
  },
  {
   "cell_type": "code",
   "execution_count": 123,
   "metadata": {},
   "outputs": [
    {
     "name": "stdout",
     "output_type": "stream",
     "text": [
      "Predicted output: 1\n"
     ]
    },
    {
     "data": {
      "image/png": "[encoded data removed]",
      "text/plain": [
       "<Figure size 432x288 with 1 Axes>"
      ]
     },
     "metadata": {
      "needs_background": "light"
     },
     "output_type": "display_data"
    }
   ],
   "source": [
    "image_index=0\n",
    "# print(\"Original output:\",y_test[image_index])\n",
    "plt.imshow(x_test[image_index].reshape(28, 28),cmap='Greys')\n",
    "pred = model.predict(x_test[image_index].reshape(1, 28, 28, 1))\n",
    "print(\"Predicted output:\",pred.argmax())"
   ]
  },
  {
   "cell_type": "code",
   "execution_count": null,
   "metadata": {},
   "outputs": [
    {
     "name": "stdout",
     "output_type": "stream",
     "text": [
      "Saved model to disk\n"
     ]
    }
   ],
   "source": [
    "model.save('model.h5')\n",
    "print(\"Saved model to disk\")"
   ]
  }
 ],
 "metadata": {
  "kernelspec": {
   "display_name": "Python 3.9.10 64-bit",
   "language": "python",
   "name": "python3"
  },
  "language_info": {
   "codemirror_mode": {
    "name": "ipython",
    "version": 3
   },
   "file_extension": ".py",
   "mimetype": "text/x-python",
   "name": "python",
   "nbconvert_exporter": "python",
   "pygments_lexer": "ipython3",
   "version": "3.9.10"
  },
  "orig_nbformat": 4,
  "vscode": {
   "interpreter": {
    "hash": "d31823fd7a6425479d17c5bd42ab21ee83938655237d544c2d29c4f54f43aa0e"
   }
  }
 },
 "nbformat": 4,
 "nbformat_minor": 2
}
